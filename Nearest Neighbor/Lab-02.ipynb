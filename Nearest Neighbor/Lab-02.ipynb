{
 "cells": [
  {
   "cell_type": "markdown",
   "metadata": {},
   "source": [
    "#  Machine Learning - Lab 2"
   ]
  },
  {
   "cell_type": "markdown",
   "metadata": {},
   "source": [
    "Parand Mohri"
   ]
  },
  {
   "cell_type": "code",
   "execution_count": 26,
   "metadata": {},
   "outputs": [],
   "source": [
    "import numpy as np\n",
    "import pandas as pd\n",
    "import matplotlib.pyplot as plt\n",
    "\n",
    "from numpy.random import random\n",
    "from sklearn.metrics import accuracy_score\n",
    "from sklearn.model_selection import train_test_split\n",
    "from sklearn.metrics import mean_absolute_error"
   ]
  },
  {
   "cell_type": "code",
   "execution_count": 27,
   "metadata": {},
   "outputs": [],
   "source": [
    "# Class of k-Nearest Neigbor Classifier\n",
    "class kNN():\n",
    "    def __init__(self, k = 3, exp = 2):\n",
    "    # constructor for kNN classifier \n",
    "    # k is the number of neighbor for local class estimation\n",
    "    # exp is the exponent for the Minkowski distance\n",
    "        self.k = k\n",
    "        self.exp = exp\n",
    "        \n",
    "      \n",
    "    def fit(self, X_train, Y_train):\n",
    "    # training k-NN method\n",
    "    # X_train is the training data given with input attributes. n-th row correponds to n-th instance.\n",
    "    # Y_train is the output data (output vector): n-th element of Y_train is the output value for n-th instance in X_train.\n",
    "        self.X_train = X_train\n",
    "        self.Y_train = Y_train\n",
    "        self.maxColumn = [] # this list save the the maximum values in the X_train so we can use it for normalizing\n",
    "        for (columnName, columnData) in X_train.iteritems():\n",
    "            self.maxColumn.append(max(columnData.values))\n",
    "        self.normalized_train = self.normalize(X_train) # here we are calculating the normalized train data \n",
    "         \n",
    "    def getDiscreteClassification(self, X_test):\n",
    "    # predict-class k-NN method\n",
    "    # X_test is the test data given with input attributes. Rows correpond to instances\n",
    "    # Method outputs prediction vector Y_pred_test:  n-th element of Y_pred_test is the prediction for n-th instance in X_test\n",
    "    \n",
    "        Y_pred_test = [] #prediction vector Y_pred_test for all the test instances in X_test is initialized to empty list []\n",
    "\n",
    "   \n",
    "        for i in range(len(X_test)):   #iterate over all instances in X_test\n",
    "            test_instance = X_test.iloc[i] #i-th test instance \n",
    "            \n",
    "            distances = []  #list of distances of the i-th test_instance for all the train_instance s in X_train, initially empty.\n",
    "          \n",
    "            for j in range(len(self.X_train)):  #iterate over all instances in X_train\n",
    "                train_instance = self.X_train.iloc[j] #j-th training instance \n",
    "                distance = self.Minkowski_distance(test_instance, train_instance) #distance between i-th test instance and j-th training instance  \n",
    "                distances.append(distance) #add the distance to the list of distances of the i-th test_instance\n",
    "        \n",
    "            # Store distances in a dataframe. The dataframe has the index of Y_train in order to keep the correspondence with the classes of the training instances \n",
    "            df_dists = pd.DataFrame(data=distances, columns=['dist'], index = self.Y_train.index)\n",
    "        \n",
    "            # Sort distances, and only consider the k closest points in the new dataframe df_knn\n",
    "            df_nn = df_dists.sort_values(by=['dist'], axis=0)\n",
    "            df_knn =  df_nn[:self.k]\n",
    "            \n",
    "            # Note that the index df_knn.index of df_knn contains indices in Y_train of the k-closed training instances to \n",
    "            # the i-th test instance. Thus, the dataframe self.Y_train[df_knn.index] contains the classes of those k-closed \n",
    "            # training instances. Method value_counts() computes the counts (number of occurencies) for each class in \n",
    "            # self.Y_train[df_knn.index] in dataframe predictions. \n",
    "            predictions = self.Y_train[df_knn.index].value_counts()\n",
    "            \n",
    "            \n",
    "            # the first element of the index predictions.index contains the class with the highest count; i.e. the prediction y_pred_test.\n",
    "            y_pred_test = predictions.index[0]\n",
    "\n",
    "            # add the prediction y_pred_test to the prediction vector Y_pred_test for all the test instances in X_test\n",
    "            Y_pred_test.append(y_pred_test)\n",
    "        \n",
    "        return Y_pred_test\n",
    "    \n",
    "    \n",
    "    def getDiscreteClassificationNormalized(self, X_test):\n",
    "        # this method is doing the exact same thing as getDiscreteClassification method but instead of comparing X_test with \n",
    "        # X_train it take normalize X_test and compare it with normalized X_train\n",
    "        Y_pred_test = []\n",
    "\n",
    "   \n",
    "        for i in range(len(X_test)):  \n",
    "            test_instance = X_test.iloc[i] \n",
    "            \n",
    "            distances = []  \n",
    "          \n",
    "            for j in range(len(self.normalized_train)):  \n",
    "                train_instance = self.normalized_train.iloc[j] \n",
    "                distance = self.Minkowski_distance(test_instance, train_instance)\n",
    "                distances.append(distance) \n",
    "                 \n",
    "            df_dists = pd.DataFrame(data=distances, columns=['dist'], index = self.Y_train.index)\n",
    "        \n",
    "            df_nn = df_dists.sort_values(by=['dist'], axis=0)\n",
    "            df_knn =  df_nn[:self.k]\n",
    "            predictions = self.Y_train[df_knn.index].value_counts()\n",
    "                 \n",
    "            y_pred_test = predictions.index[0]\n",
    "\n",
    "            Y_pred_test.append(y_pred_test)\n",
    "        \n",
    "        return Y_pred_test\n",
    " \n",
    "\n",
    "    def Minkowski_distance(self, x1, x2):\n",
    "    # computes the Minkowski distance of x1 and x2 for two labeled instances (x1,y1) and (x2,y2)\n",
    "    \n",
    "        # Set initial distance to 0\n",
    "        distance = 0\n",
    "    \n",
    "        # Calculate Minkowski distance using the exponent exp\n",
    "        for i in range(len(x1)):\n",
    "            distance = distance + abs(x1[i] - x2[i])**self.exp\n",
    "        \n",
    "        distance = distance**(1/self.exp)\n",
    "        return distance\n",
    "    \n",
    "    def normalize(self, x):\n",
    "        # this method take a X_test and return the normalize one with the max values of X_train \n",
    "        normalized = x.copy()\n",
    "        i = 0\n",
    "        for (columnName, columnData) in normalized.iteritems():\n",
    "            j = 0 \n",
    "            for value in columnData:\n",
    "                if(value > self.maxColumn[i]):\n",
    "                    normalized.iloc[j, normalized.columns.get_loc(columnName)] = 1\n",
    "                else:\n",
    "                     normalized.iloc[j, normalized.columns.get_loc(columnName)] = value/ self.maxColumn[i]\n",
    "                j = j + 1 \n",
    "            i = i + 1    \n",
    "        return normalized\n",
    "    \n",
    "    \n",
    "    def getClassProbs(self, X_test_normalized):\n",
    "        # this method is calculating the probability of each instance being in each class using Normalized X_train so the\n",
    "        # X_test here is normalized X_test \n",
    "        columnsIndex = np.unique(self.Y_train) \n",
    "        prob = pd.DataFrame(index = columnsIndex)\n",
    "        \n",
    "        for i in range(len(X_test_normalized)):   \n",
    "            test_instance = X_test_normalized.iloc[i] \n",
    "            \n",
    "            distances = [] \n",
    "          \n",
    "            for j in range(len(self.normalized_train)):\n",
    "                train_instance = self.normalized_train.iloc[j] \n",
    "                distance = self.Minkowski_distance(test_instance, train_instance) \n",
    "                distances.append(distance) \n",
    "        \n",
    "            df_dists = pd.DataFrame(data=distances, columns=['dist'], index = self.Y_train.index)\n",
    "        \n",
    "            df_nn = df_dists.sort_values(by=['dist'], axis=0)\n",
    "            df_knn =  df_nn[:self.k]\n",
    "            #until here we have the exact same code as getDiscreteClassification method but here we save the probabilities in predition \n",
    "            #instead of the final decition depending on the our k value.\n",
    "\n",
    "            predictions = self.Y_train[df_knn.index].value_counts() / self.k\n",
    "            prob['test' + str(i)] = predictions\n",
    "        \n",
    "        return prob\n",
    "    \n",
    "    def getPrediction(self, X_test_normalized):\n",
    "        #this method computes for all the test instances in X_test regression values for the output attribute using normalized \n",
    "        # X_train so the X_test that we are getting is normalized \n",
    "        columnsIndex = np.unique(self.Y_train) \n",
    "        prob = pd.DataFrame(index = columnsIndex)\n",
    "        avr = []\n",
    "        for i in range(len(X_test_normalized)):  \n",
    "            test_instance = X_test_normalized.iloc[i] \n",
    "            \n",
    "            distances = [] \n",
    "          \n",
    "            for j in range(len(self.normalized_train)): \n",
    "                train_instance = self.normalized_train.iloc[j] \n",
    "                distance = self.Minkowski_distance(test_instance, train_instance) \n",
    "                distances.append(distance) \n",
    "         \n",
    "            df_dists = pd.DataFrame(data=distances, columns=['regression value'], index = self.Y_train.index)\n",
    "        \n",
    "            df_nn = df_dists.sort_values(by=['regression value'], axis=0)\n",
    "            df_knn =  df_nn[:self.k]\n",
    "            # till here the method is really similar to getDiscreteClassification method but here we are saving the avrage between \n",
    "            # k closest neighbors\n",
    "            avr.append(np.mean(df_knn))\n",
    "        df = pd.DataFrame(avr)\n",
    "        return df\n",
    "    "
   ]
  },
  {
   "cell_type": "code",
   "execution_count": 28,
   "metadata": {},
   "outputs": [],
   "source": [
    "##################################################\n",
    "# Hold-out testing: Training and Test set creation\n",
    "##################################################\n",
    "\n",
    "data = pd.read_csv('/Users/macbook/Downloads/glass.csv')\n",
    "data.head()\n",
    "Y = data['class']\n",
    "X = data.drop(['class'],axis=1)\n",
    "\n",
    "X_train, X_test, Y_train, Y_test = train_test_split(X, Y, test_size=0.34, random_state=10)\n",
    "\n",
    "\n",
    "# range for the values of parameter k for kNN\n",
    "k_range = [1, 3, 5, 7, 9, 11, 13, 15, 17, 19, 21, 23, 25, 27, 29, 31]\n",
    "\n",
    "trainAcc = np.zeros(len(k_range))\n",
    "testAcc = np.zeros(len(k_range))\n",
    "normalTrainAcc = np.zeros(len(k_range))\n",
    "normalTestAcc = np.zeros(len(k_range))\n",
    "\n",
    "index = 0 \n",
    "for k  in  k_range:\n",
    "    clf = kNN(k)\n",
    "    clf.fit(X_train, Y_train)\n",
    "    Y_predTrain = clf.getDiscreteClassification(X_train)\n",
    "    Y_predTest = clf.getDiscreteClassification(X_test)\n",
    "    trainAcc[index] = accuracy_score(Y_train, Y_predTrain)\n",
    "    testAcc[index] = accuracy_score(Y_test, Y_predTest)\n",
    "    Y_pred_normalized_Train = clf.getDiscreteClassificationNormalized(clf.normalized_train)\n",
    "    Y_pred_normalized_Test = clf.getDiscreteClassificationNormalized(clf.normalize(X_test))\n",
    "    normalTrainAcc[index] = accuracy_score(Y_train, Y_pred_normalized_Train)\n",
    "    normalTestAcc[index] = accuracy_score(Y_test, Y_pred_normalized_Test)\n",
    "    index += 1"
   ]
  },
  {
   "cell_type": "code",
   "execution_count": 29,
   "metadata": {},
   "outputs": [
    {
     "data": {
      "text/plain": [
       "Text(0, 0.5, 'Accuracy')"
      ]
     },
     "execution_count": 29,
     "metadata": {},
     "output_type": "execute_result"
    },
    {
     "data": {
      "image/png": "[encoded data removed]",
      "text/plain": [
       "<Figure size 432x288 with 1 Axes>"
      ]
     },
     "metadata": {
      "needs_background": "light"
     },
     "output_type": "display_data"
    }
   ],
   "source": [
    "#########################################\n",
    "# Plot of NOT normalized training and test accuracies \n",
    "#########################################\n",
    "    \n",
    "plt.plot(k_range,trainAcc,'ro-',k_range,testAcc,'bv--')\n",
    "plt.legend(['Training Accuracy','Test Accuracy'])\n",
    "plt.xlabel('k')\n",
    "plt.ylabel('Accuracy')"
   ]
  },
  {
   "cell_type": "code",
   "execution_count": 30,
   "metadata": {},
   "outputs": [
    {
     "data": {
      "text/plain": [
       "Text(0, 0.5, 'Accuracy')"
      ]
     },
     "execution_count": 30,
     "metadata": {},
     "output_type": "execute_result"
    },
    {
     "data": {
      "image/png": "[encoded data removed]",
      "text/plain": [
       "<Figure size 432x288 with 1 Axes>"
      ]
     },
     "metadata": {
      "needs_background": "light"
     },
     "output_type": "display_data"
    }
   ],
   "source": [
    "#########################################\n",
    "# Plot of NORMALIZED training and test accuracies \n",
    "#########################################\n",
    "plt.plot(k_range,normalTrainAcc,'ro-',k_range,normalTestAcc,'bv--')\n",
    "plt.legend(['Training Accuracy','Test Accuracy'])\n",
    "plt.xlabel('k')\n",
    "plt.ylabel('Accuracy')"
   ]
  },
  {
   "cell_type": "markdown",
   "metadata": {},
   "source": [
    "as mentioned above the first plot is for train and test data without normalization and the second plot is woth normalize data. The accuracy is not that much different but the train accuracy in second plot is at least 0.7 but we can see in first one it goes blow 0.7. and normalize Test data is a but cleane and dont have as much ups and downs as first plot. "
   ]
  },
  {
   "cell_type": "code",
   "execution_count": 405,
   "metadata": {},
   "outputs": [],
   "source": [
    "##################################################\n",
    "# Hold-out testing: Training and Test set creation\n",
    "##################################################\n",
    "\n",
    "data = pd.read_csv('/Users/macbook/Downloads/diabetes.csv')\n",
    "data.head()\n",
    "Y = data['class']\n",
    "X = data.drop(['class'],axis=1)\n",
    "\n",
    "X_train, X_test, Y_train, Y_test = train_test_split(X, Y, test_size=0.34, random_state=10)\n",
    "\n",
    "# for (columnName, columnData) in X_train.iteritems():\n",
    "#     print(columnData)\n",
    "# range for the values of parameter k for kNN\n",
    "\n",
    "k_range = [1,3, 5, 7, 9, 11, 13, 15, 17, 19, 21, 23, 25, 27, 29, 31]\n",
    "# k_range = [1,3,5, 7]\n",
    "trainAcc = np.zeros(len(k_range))\n",
    "testAcc = np.zeros(len(k_range))\n",
    "normalTrainAcc = np.zeros(len(k_range))\n",
    "normalTestAcc = np.zeros(len(k_range))\n",
    "\n",
    "index = 0 \n",
    "for k  in  k_range:\n",
    "    clf = kNN(k)\n",
    "    clf.fit(X_train, Y_train)\n",
    "    Y_predTrain = clf.getDiscreteClassification(X_train)\n",
    "    Y_predTest = clf.getDiscreteClassification(X_test)\n",
    "    trainAcc[index] = accuracy_score(Y_train, Y_predTrain)\n",
    "    testAcc[index] = accuracy_score(Y_test, Y_predTest)\n",
    "    Y_pred_normalized_Train = clf.getDiscreteClassificationNormalized(clf.normalized_train)\n",
    "    Y_pred_normalized_Test = clf.getDiscreteClassificationNormalized(clf.normalize(X_test))\n",
    "    normalTrainAcc[index] = accuracy_score(Y_train, Y_pred_normalized_Train)\n",
    "    normalTestAcc[index] = accuracy_score(Y_test, Y_pred_normalized_Test)\n",
    "    index += 1\n"
   ]
  },
  {
   "cell_type": "code",
   "execution_count": 406,
   "metadata": {},
   "outputs": [
    {
     "data": {
      "text/plain": [
       "Text(0, 0.5, 'Accuracy')"
      ]
     },
     "execution_count": 406,
     "metadata": {},
     "output_type": "execute_result"
    },
    {
     "data": {
      "image/png": "[encoded data removed]",
      "text/plain": [
       "<Figure size 432x288 with 1 Axes>"
      ]
     },
     "metadata": {
      "needs_background": "light"
     },
     "output_type": "display_data"
    }
   ],
   "source": [
    "#########################################\n",
    "# Plot of NOT normalized training and test accuracies \n",
    "#########################################\n",
    "    \n",
    "plt.plot(k_range,trainAcc,'ro-',k_range,testAcc,'bv--')\n",
    "plt.legend(['Training Accuracy','Test Accuracy'])\n",
    "plt.xlabel('k')\n",
    "plt.ylabel('Accuracy')"
   ]
  },
  {
   "cell_type": "code",
   "execution_count": 407,
   "metadata": {},
   "outputs": [
    {
     "data": {
      "text/plain": [
       "Text(0, 0.5, 'Accuracy')"
      ]
     },
     "execution_count": 407,
     "metadata": {},
     "output_type": "execute_result"
    },
    {
     "data": {
      "image/png": "[encoded data removed]",
      "text/plain": [
       "<Figure size 432x288 with 1 Axes>"
      ]
     },
     "metadata": {
      "needs_background": "light"
     },
     "output_type": "display_data"
    }
   ],
   "source": [
    "#########################################\n",
    "# Plot of NORMALIZED training and test accuracies \n",
    "#########################################\n",
    "plt.plot(k_range,normalTrainAcc,'ro-',k_range,normalTestAcc,'bv--')\n",
    "plt.legend(['Training Accuracy','Test Accuracy'])\n",
    "plt.xlabel('k')\n",
    "plt.ylabel('Accuracy')"
   ]
  },
  {
   "cell_type": "markdown",
   "metadata": {},
   "source": [
    "Above we are doing the same thing as before but on the diabetes data "
   ]
  },
  {
   "cell_type": "code",
   "execution_count": 31,
   "metadata": {},
   "outputs": [
    {
     "name": "stderr",
     "output_type": "stream",
     "text": [
      "<ipython-input-27-764979290d70>:100: RuntimeWarning: overflow encountered in double_scalars\n",
      "  distance = distance + abs(x1[i] - x2[i])**self.exp\n"
     ]
    }
   ],
   "source": [
    "##################################################\n",
    "# Hold-out testing: Training and Test set creation\n",
    "##################################################\n",
    "\n",
    "# data = pd.read_csv('glass.csv')\n",
    "data = pd.read_csv('/Users/macbook/Downloads/glass.csv')\n",
    "data.head()\n",
    "Y = data['class']\n",
    "X = data.drop(['class'],axis=1)\n",
    "\n",
    "X_train, X_test, Y_train, Y_test = train_test_split(X, Y, test_size=0.34, random_state=10)\n",
    "\n",
    "\n",
    "# range for the values of parameter exp for kNN\n",
    "\n",
    "exp_range = [2,  100, 10000]\n",
    "\n",
    "trainAcc = np.zeros(len(exp_range))\n",
    "testAcc = np.zeros(len(exp_range))\n",
    "normalTrainAcc = np.zeros(len(exp_range))\n",
    "normalTestAcc = np.zeros(len(exp_range))\n",
    "\n",
    "index = 0 \n",
    "for exp  in  exp_range:\n",
    "    clf = kNN(k = 3, exp = exp)\n",
    "    clf.fit(X_train, Y_train)\n",
    "    Y_predTrain = clf.getDiscreteClassification(X_train)\n",
    "    Y_predTest = clf.getDiscreteClassification(X_test)\n",
    "    trainAcc[index] = accuracy_score(Y_train, Y_predTrain)\n",
    "    testAcc[index] = accuracy_score(Y_test, Y_predTest)\n",
    "    Y_pred_normalized_Train = clf.getDiscreteClassificationNormalized(clf.normalized_train)\n",
    "    Y_pred_normalized_Test = clf.getDiscreteClassificationNormalized(clf.normalize(X_test))\n",
    "    normalTrainAcc[index] = accuracy_score(Y_train, Y_pred_normalized_Train)\n",
    "    normalTestAcc[index] = accuracy_score(Y_test, Y_pred_normalized_Test)\n",
    "    index += 1\n"
   ]
  },
  {
   "cell_type": "code",
   "execution_count": 32,
   "metadata": {},
   "outputs": [
    {
     "data": {
      "text/plain": [
       "Text(0, 0.5, 'Accuracy')"
      ]
     },
     "execution_count": 32,
     "metadata": {},
     "output_type": "execute_result"
    },
    {
     "data": {
      "image/png": "[encoded data removed]",
      "text/plain": [
       "<Figure size 432x288 with 1 Axes>"
      ]
     },
     "metadata": {
      "needs_background": "light"
     },
     "output_type": "display_data"
    }
   ],
   "source": [
    "#########################################\n",
    "# Plot of NOT normalized training and test accuracies\n",
    "#########################################\n",
    "    \n",
    "plt.plot(exp_range,trainAcc,'ro-',exp_range,testAcc,'bv--')\n",
    "plt.legend(['Training Accuracy','Test Accuracy'])\n",
    "plt.xlabel('exp')\n",
    "plt.ylabel('Accuracy')"
   ]
  },
  {
   "cell_type": "code",
   "execution_count": 33,
   "metadata": {},
   "outputs": [
    {
     "data": {
      "text/plain": [
       "Text(0, 0.5, 'Accuracy')"
      ]
     },
     "execution_count": 33,
     "metadata": {},
     "output_type": "execute_result"
    },
    {
     "data": {
      "image/png": "[encoded data removed]",
      "text/plain": [
       "<Figure size 432x288 with 1 Axes>"
      ]
     },
     "metadata": {
      "needs_background": "light"
     },
     "output_type": "display_data"
    }
   ],
   "source": [
    "#########################################\n",
    "# Plot of NORMALIZED training and test accuracies \n",
    "#########################################\n",
    "plt.plot(exp_range,normalTrainAcc,'ro-',exp_range,normalTestAcc,'bv--')\n",
    "plt.legend(['Training Accuracy','Test Accuracy'])\n",
    "plt.xlabel('exp')\n",
    "plt.ylabel('Accuracy')"
   ]
  },
  {
   "cell_type": "markdown",
   "metadata": {},
   "source": [
    "Two graphs above are the diffferent output for different exp values for normalized and unormalized data as you can see we have better accuracy for our test data when we normalize it."
   ]
  },
  {
   "cell_type": "code",
   "execution_count": 34,
   "metadata": {},
   "outputs": [
    {
     "name": "stdout",
     "output_type": "stream",
     "text": [
      "                           test0     test1     test2  test3     test4  test5  \\\n",
      "'build wind float'      0.666667  0.333333       NaN    NaN  0.333333    NaN   \n",
      "'build wind non-float'  0.333333  0.666667       NaN    1.0  0.666667    NaN   \n",
      "'vehic wind float'           NaN       NaN       NaN    NaN       NaN    NaN   \n",
      "containers                   NaN       NaN  0.666667    NaN       NaN    NaN   \n",
      "headlamps                    NaN       NaN  0.333333    NaN       NaN    1.0   \n",
      "tableware                    NaN       NaN       NaN    NaN       NaN    NaN   \n",
      "\n",
      "                           test6     test7     test8     test9  ...  test63  \\\n",
      "'build wind float'           NaN       NaN  0.666667  0.333333  ...     NaN   \n",
      "'build wind non-float'  0.666667       NaN  0.333333  0.666667  ...     1.0   \n",
      "'vehic wind float'      0.333333       NaN       NaN       NaN  ...     NaN   \n",
      "containers                   NaN  0.666667       NaN       NaN  ...     NaN   \n",
      "headlamps                    NaN       NaN       NaN       NaN  ...     NaN   \n",
      "tableware                    NaN  0.333333       NaN       NaN  ...     NaN   \n",
      "\n",
      "                        test64  test65  test66  test67    test68    test69  \\\n",
      "'build wind float'         1.0     NaN     NaN     NaN  0.666667  0.333333   \n",
      "'build wind non-float'     NaN     1.0     NaN     1.0       NaN       NaN   \n",
      "'vehic wind float'         NaN     NaN     NaN     NaN  0.333333  0.666667   \n",
      "containers                 NaN     NaN     NaN     NaN       NaN       NaN   \n",
      "headlamps                  NaN     NaN     1.0     NaN       NaN       NaN   \n",
      "tableware                  NaN     NaN     NaN     NaN       NaN       NaN   \n",
      "\n",
      "                          test70    test71  test72  \n",
      "'build wind float'           NaN  0.666667     NaN  \n",
      "'build wind non-float'  0.333333  0.333333     1.0  \n",
      "'vehic wind float'           NaN       NaN     NaN  \n",
      "containers              0.333333       NaN     NaN  \n",
      "headlamps                    NaN       NaN     NaN  \n",
      "tableware               0.333333       NaN     NaN  \n",
      "\n",
      "[6 rows x 73 columns]\n"
     ]
    }
   ],
   "source": [
    "##################################################\n",
    "# Hold-out testing: Training and Test set creation\n",
    "##################################################\n",
    "\n",
    "data = pd.read_csv('/Users/macbook/Downloads/glass.csv')\n",
    "data.head()\n",
    "Y = data['class']\n",
    "X = data.drop(['class'],axis=1)\n",
    "\n",
    "X_train, X_test, Y_train, Y_test = train_test_split(X, Y, test_size=0.34, random_state=10)\n",
    "clf = kNN()\n",
    "clf.fit(X_train, Y_train)\n",
    "X_test_normalized = clf.normalize(X_test)\n",
    "Y_predTest = clf.getClassProbs(X_test_normalized)\n",
    "print(Y_predTest)"
   ]
  },
  {
   "cell_type": "markdown",
   "metadata": {},
   "source": [
    "This data frame is the out put of getClassProbs for glass data with default k and exp with normalized data, as you can see for each test instance it returning the probability of that instance being in each class and for the classes that were not in the k nearest neighbors of each instance its returning Nan that means 0. "
   ]
  },
  {
   "cell_type": "code",
   "execution_count": 35,
   "metadata": {},
   "outputs": [
    {
     "name": "stdout",
     "output_type": "stream",
     "text": [
      "    regression value\n",
      "0           0.038917\n",
      "1           0.100631\n",
      "2           0.151004\n",
      "3           0.174677\n",
      "4           0.120739\n",
      "5           0.305917\n",
      "6           0.121552\n",
      "7           0.215947\n",
      "8           0.334432\n",
      "9           0.152970\n",
      "10          0.138244\n",
      "11          0.086449\n",
      "12          0.144874\n",
      "13          0.217343\n",
      "14          0.145985\n",
      "15          0.099126\n",
      "16          0.133556\n",
      "17          0.295672\n",
      "18          0.087365\n",
      "19          0.209629\n",
      "20          0.394714\n",
      "21          0.291216\n",
      "22          0.328993\n",
      "23          0.110613\n",
      "24          0.114224\n",
      "25          0.286618\n",
      "26          0.298631\n",
      "27          0.138843\n",
      "28          0.030738\n",
      "29          0.389835\n",
      "30          0.056196\n",
      "31          0.138613\n",
      "32          0.208407\n",
      "33          0.214136\n",
      "34          0.150816\n",
      "35          0.284302\n",
      "36          0.029263\n",
      "37          0.146428\n",
      "38          0.138370\n",
      "39          0.334406\n",
      "40          0.187896\n",
      "41          0.122466\n",
      "42          0.439386\n",
      "43          0.422994\n",
      "44          0.145308\n",
      "45          0.212251\n",
      "46          0.120820\n",
      "47          0.143205\n",
      "48          0.076605\n",
      "49          0.197626\n",
      "50          0.023840\n",
      "51          0.144874\n",
      "52          0.258379\n",
      "53          0.472232\n",
      "54          0.023630\n",
      "this is the error 11360.375420030003\n"
     ]
    }
   ],
   "source": [
    "data = pd.read_csv('/Users/macbook/Downloads/autoprice.csv')\n",
    "data.head()\n",
    "Y = data['class']\n",
    "X = data.drop(['class'],axis=1)\n",
    "X_train, X_test, Y_train, Y_test = train_test_split(X, Y, test_size=0.34, random_state=10)\n",
    "clf = kNN()\n",
    "clf.fit(X_train, Y_train)\n",
    "X_test_normalized = clf.normalize(X_test)\n",
    "Y_predTest = clf.getPrediction(X_test_normalized)\n",
    "print(Y_predTest)\n",
    "error = mean_absolute_error(Y_test, Y_predTest)\n",
    "print(\"this is the error \" + str(error))"
   ]
  },
  {
   "cell_type": "markdown",
   "metadata": {},
   "source": [
    "Here I am using autoprice data for testing regrision method, the output you see is the regression values for this data having default k and exp and normalized. Also in the end of the data you can see the error."
   ]
  }
 ],
 "metadata": {
  "kernelspec": {
   "display_name": "Python 3",
   "language": "python",
   "name": "python3"
  },
  "language_info": {
   "codemirror_mode": {
    "name": "ipython",
    "version": 3
   },
   "file_extension": ".py",
   "mimetype": "text/x-python",
   "name": "python",
   "nbconvert_exporter": "python",
   "pygments_lexer": "ipython3",
   "version": "3.8.8"
  }
 },
 "nbformat": 4,
 "nbformat_minor": 2
}
