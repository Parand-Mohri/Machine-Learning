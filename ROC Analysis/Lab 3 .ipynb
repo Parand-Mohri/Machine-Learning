{
 "cells": [
  {
   "cell_type": "code",
   "execution_count": 8,
   "id": "56e35fae",
   "metadata": {},
   "outputs": [],
   "source": [
    "import pandas as pd \n",
    "import numpy as np\n",
    "import matplotlib.pyplot as plt\n",
    "\n",
    "from sklearn.model_selection import train_test_split\n",
    "from numpy import trapz\n",
    "from sklearn.neighbors import KNeighborsClassifier"
   ]
  },
  {
   "cell_type": "code",
   "execution_count": 9,
   "id": "49f2ac3e",
   "metadata": {},
   "outputs": [],
   "source": [
    "class rOC():\n",
    "    def __init__(self, probs, trueClass):\n",
    "        self.probs = probs\n",
    "        self.trueClass = trueClass\n",
    "    \n",
    "    def compute_ROC_coordinates(self, probs, trueClass ):\n",
    "        #this is the psudo code given \n",
    "        probs = probs.sort_values(ascending=False)\n",
    "        trueClass = trueClass.reindex(probs.index)\n",
    "        fp = 0 \n",
    "        tp = 0 \n",
    "        ROC_cordinates =[]\n",
    "        previous_prob = float('-inf')\n",
    "        for i in range(len(probs)):\n",
    "            if(probs.iloc[i] != previous_prob):\n",
    "                count= trueClass.value_counts()\n",
    "                # im assuming here that TrueClass is boolean dataframe with possitive true and negative false\n",
    "                ROC_cordinates.append([fp / count[False]  , tp / count[True]])\n",
    "                previous_prob = probs.iloc[i]\n",
    "            if(trueClass.iloc[i]['class'] == True):\n",
    "                tp = tp + 1\n",
    "            else:\n",
    "                fp = fp + 1 \n",
    "        ROC_cordinates.append([fp / count[False]  , tp / count[True]])   \n",
    "        return ROC_cordinates\n",
    "    \n",
    "    def compute_ROC_coordinates_optimized(self, probs, trueClass ):\n",
    "        #this is the optimized version of compute_ROC_coordinates\n",
    "        # here before going throw test instances and calculating tpr and fpr im finding the instances that have same\n",
    "        # probability and then sorting them from true to false  \n",
    "        # this way i can use all the data and dont need previous_prob \n",
    "        probs = probs.sort_values(ascending=False)\n",
    "        trueClass = trueClass.reindex(probs.index)\n",
    "        df = pd.DataFrame(probs)\n",
    "        df['trueClass'] = trueClass # putting probs and truClass in same data frame \n",
    "        df2 = pd.DataFrame(df['probs'].value_counts()) \n",
    "        df2 = df2[df2.probs != 1] # making a data frame with value of duplicates and number of that value in the data\n",
    "        for value in df2.index: \n",
    "            # for all these values im making new data frame with sorted values\n",
    "            df3 = df[df.probs == value]['trueClass'].sort_values(ascending=False)\n",
    "            i = 0\n",
    "            for index in df[df.probs == value]['trueClass'].index:\n",
    "                # updating the original data frame to be sorted for duplicates\n",
    "                df.loc[index, 'trueClass'] = df3.iloc[i]\n",
    "                i = i + 1\n",
    "        fp = 0 \n",
    "        tp = 0 \n",
    "        ROC_cordinates =[]\n",
    "        for i in range(len(probs)):\n",
    "            count= trueClass.value_counts()\n",
    "            # im assuming here that TrueClass is boolean dataframe with possitive true and negative false \n",
    "            ROC_cordinates.append([fp / count[False]  , tp / count[True]])\n",
    "            if(trueClass.iloc[i]['class'] == True):\n",
    "                tp = tp + 1\n",
    "            else:\n",
    "                fp = fp + 1 \n",
    "        ROC_cordinates.append([fp / count[False]  , tp / count[True]])   \n",
    "        return ROC_cordinates\n",
    "    \n",
    "    def plot_ROC(self,cordinates): #take fpr as x and tpr as y and plot \n",
    "        fpr = []\n",
    "        tpr = [] \n",
    "        for j in range(len(cordinates)):\n",
    "            fpr.append(cordinates[j][0])\n",
    "            tpr.append(cordinates[j][1])\n",
    "        plt.plot(fpr,tpr)\n",
    "        plt.xlabel('fpr')\n",
    "        plt.ylabel('tpr')\n",
    "    \n",
    "    def compute_AUCROC(self, cordinates): # calculate the area under the curve using trapzoid method \n",
    "        fpr = []\n",
    "        tpr = [] \n",
    "        for j in range(len(cordinates)):\n",
    "            fpr.append(cordinates[j][0])\n",
    "            tpr.append(cordinates[j][1])\n",
    "        area = trapz(tpr, fpr)\n",
    "        return(area)\n",
    "        "
   ]
  },
  {
   "cell_type": "code",
   "execution_count": 10,
   "id": "a5e82a64",
   "metadata": {
    "scrolled": true
   },
   "outputs": [],
   "source": [
    "#Making test using diabetes data \n",
    "data = pd.read_csv('/Users/macbook/Downloads/diabetes.csv')\n",
    "data.head()\n",
    "Y = data['class']\n",
    "X = data.drop(['class'],axis=1)\n",
    "X_train, X_test, Y_train, Y_test = train_test_split(X, Y, test_size=0.34, random_state=10)\n",
    "# using kNN classifiar\n",
    "neigh = KNeighborsClassifier(n_neighbors=3)   \n",
    "neigh.fit(X_train, Y_train)\n",
    "\n",
    "trueClass = pd.DataFrame(Y_test).reset_index(drop=True) # making true class from Y_test\n",
    "# as i said above my class assumes trueClass is an Dataframe of booleans so here im making \n",
    "#trueClass a boolean df\n",
    "trueClass = trueClass.replace({'tested_positive': True,'tested_negative' : False}) \n",
    "\n",
    "probs = pd.DataFrame(neigh.predict_proba(X_test), columns = ['col0' , 'probs']) #making probs\n",
    "# this method give the probability of being positive and negative so im only taking the second column \n",
    "# corresponding to positive\n",
    "probs = probs.iloc[:,1] \n",
    "\n",
    "rOCc = rOC(probs, trueClass)"
   ]
  },
  {
   "cell_type": "code",
   "execution_count": 11,
   "id": "cbf449f8",
   "metadata": {},
   "outputs": [],
   "source": [
    "# compute_ROC_coordinates_optimized method returning an list of Tpr and Fpr for each instance\n",
    "cordinates = rOCc.compute_ROC_coordinates(probs, trueClass)\n",
    "# this was really long so i didnt print "
   ]
  },
  {
   "cell_type": "code",
   "execution_count": 12,
   "id": "12169216",
   "metadata": {},
   "outputs": [
    {
     "data": {
      "image/png": "[encoded data removed]",
      "text/plain": [
       "<Figure size 432x288 with 1 Axes>"
      ]
     },
     "metadata": {
      "needs_background": "light"
     },
     "output_type": "display_data"
    }
   ],
   "source": [
    "# plot_ROC plotting the values find from compute_ROC_coordinates_optimized\n",
    "rOCc.plot_ROC(cordinates)"
   ]
  },
  {
   "cell_type": "code",
   "execution_count": 416,
   "id": "19c2ec73",
   "metadata": {},
   "outputs": [
    {
     "data": {
      "text/plain": [
       "0.7324594731509625"
      ]
     },
     "execution_count": 416,
     "metadata": {},
     "output_type": "execute_result"
    }
   ],
   "source": [
    "# compute_AUCROC calculating the area under the curve using the plot from plot_ROC\n",
    "rOCc.compute_AUCROC(cordinates)"
   ]
  }
 ],
 "metadata": {
  "kernelspec": {
   "display_name": "Python 3",
   "language": "python",
   "name": "python3"
  },
  "language_info": {
   "codemirror_mode": {
    "name": "ipython",
    "version": 3
   },
   "file_extension": ".py",
   "mimetype": "text/x-python",
   "name": "python",
   "nbconvert_exporter": "python",
   "pygments_lexer": "ipython3",
   "version": "3.8.8"
  }
 },
 "nbformat": 4,
 "nbformat_minor": 5
}
