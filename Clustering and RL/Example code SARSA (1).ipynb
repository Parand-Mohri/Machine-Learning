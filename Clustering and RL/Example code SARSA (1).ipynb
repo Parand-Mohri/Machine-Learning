{
 "cells": [
  {
   "cell_type": "code",
   "execution_count": 60,
   "metadata": {
    "scrolled": true
   },
   "outputs": [
    {
     "name": "stdout",
     "output_type": "stream",
     "text": [
      "Populating the interactive namespace from numpy and matplotlib\n"
     ]
    }
   ],
   "source": [
    "import numpy as np\n",
    "import matplotlib.pyplot as plt\n",
    "%pylab inline\n",
    "# import random\n",
    "from numpy import random\n",
    "\n",
    "# parameters\n",
    "gridSize = 4\n",
    "states_terminal = [[0,0],[gridSize-1, gridSize-1]]\n",
    "valid_actions = [[-1, 0], [1, 0], [0, 1], [0, -1]]\n",
    "gamma = 0.1# discount rate\n",
    "currentReward = 0\n",
    "numIterations = 1000\n",
    "alpha = 0.9 #exploration factor\n",
    "\n",
    "# initialization\n",
    "Q = np.zeros((gridSize, gridSize))\n",
    "states = [[i, j] for i in range(gridSize) for j in range(gridSize)]"
   ]
  },
  {
   "cell_type": "code",
   "execution_count": 61,
   "metadata": {},
   "outputs": [],
   "source": [
    "def generateInitialState():\n",
    "    #generate a random initial state    \n",
    "    return [random.randint(4),random.randint(4)]\n",
    "\n",
    "def generateNextAction():\n",
    "    #generate a random action from the valid set of actions\n",
    "    return valid_actions[random.randint(4)]\n",
    "\n",
    "# define the transition function from a given state and action\n",
    "def getNextState(state, action):\n",
    "    #define what happens when reaching a terminal state\n",
    "    \n",
    "    nextState = [sum(x) for x in zip(*[state, action])]\n",
    "\n",
    "    \n",
    "    if nextState in states_terminal:\n",
    "        return 100, nextState\n",
    "    \n",
    "    # here you should complete this step, the transition step \n",
    "    \n",
    "  \n",
    "    # if the agent reaches a wall \n",
    "    if -1 in nextState or gridSize in nextState:\n",
    "        nextState = state\n",
    "    \n",
    "    return currentReward, nextState"
   ]
  },
  {
   "cell_type": "code",
   "execution_count": 62,
   "metadata": {},
   "outputs": [],
   "source": [
    "for it in range(numIterations):\n",
    "    currentState = generateInitialState()\n",
    "    b = True\n",
    "    while b:\n",
    "        currentAction = generateNextAction()\n",
    "        reward, nextState = getNextState(currentState, currentAction)\n",
    "        \n",
    "        Q[currentState] = (1- alpha) * Q[currentState] + alpha * (reward + gamma *Q[nextState] )\n",
    "\n",
    "        if nextState not in states_terminal:\n",
    "            #assign as current state the next state\n",
    "            currentState = nextState\n",
    "        else:\n",
    "            b = False\n",
    "       \n",
    "        \n",
    "        \n",
    "        "
   ]
  },
  {
   "cell_type": "code",
   "execution_count": 63,
   "metadata": {},
   "outputs": [
    {
     "data": {
      "text/plain": [
       "array([[90.02228489, 90.02228489, 90.02228489, 90.02228489],\n",
       "       [ 9.81346518,  9.81346518,  9.81346518,  9.81346518],\n",
       "       [99.29242844, 99.29242844, 99.29242844, 99.29242844],\n",
       "       [90.61731229, 90.61731229, 90.61731229, 90.61731229]])"
      ]
     },
     "execution_count": 63,
     "metadata": {},
     "output_type": "execute_result"
    }
   ],
   "source": [
    "Q"
   ]
  },
  {
   "cell_type": "code",
   "execution_count": null,
   "metadata": {},
   "outputs": [],
   "source": []
  },
  {
   "cell_type": "code",
   "execution_count": null,
   "metadata": {},
   "outputs": [],
   "source": []
  }
 ],
 "metadata": {
  "kernelspec": {
   "display_name": "Python 3",
   "language": "python",
   "name": "python3"
  },
  "language_info": {
   "codemirror_mode": {
    "name": "ipython",
    "version": 3
   },
   "file_extension": ".py",
   "mimetype": "text/x-python",
   "name": "python",
   "nbconvert_exporter": "python",
   "pygments_lexer": "ipython3",
   "version": "3.8.8"
  }
 },
 "nbformat": 4,
 "nbformat_minor": 4
}
