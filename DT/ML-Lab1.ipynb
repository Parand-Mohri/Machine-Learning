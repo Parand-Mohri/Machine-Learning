{
 "cells": [
  {
   "cell_type": "markdown",
   "id": "70984ebe",
   "metadata": {},
   "source": [
    "# Lab 1: Decision Trees"
   ]
  },
  {
   "cell_type": "markdown",
   "id": "0de8996b",
   "metadata": {},
   "source": [
    "Parand Mohri"
   ]
  },
  {
   "cell_type": "code",
   "execution_count": 149,
   "id": "a881a8e2",
   "metadata": {},
   "outputs": [],
   "source": [
    "import pandas as pd\n",
    "from sklearn import tree\n",
    "from sklearn.metrics import accuracy_score\n",
    "from sklearn.model_selection import train_test_split\n",
    "import matplotlib.pyplot as plt\n",
    "import numpy as np"
   ]
  },
  {
   "cell_type": "markdown",
   "id": "121fa3a8",
   "metadata": {},
   "source": [
    "1) Diabetes Data"
   ]
  },
  {
   "cell_type": "code",
   "execution_count": 150,
   "id": "7d8430e2",
   "metadata": {},
   "outputs": [],
   "source": [
    "data = pd.read_csv('/Users/macbook/Downloads/diabetes.csv')\n",
    "Y = data['class']\n",
    "X = data.drop(['class'],axis=1)"
   ]
  },
  {
   "cell_type": "markdown",
   "id": "1d42254b",
   "metadata": {},
   "source": [
    "Deviding the data into test and train and training one-level decision tree:"
   ]
  },
  {
   "cell_type": "code",
   "execution_count": 151,
   "id": "396d22d6",
   "metadata": {},
   "outputs": [],
   "source": [
    "clf = tree.DecisionTreeClassifier(criterion = 'entropy',\n",
    "           max_depth = 1)\n",
    "X_train, X_test, Y_train, Y_test = train_test_split(X, Y,\n",
    "  test_size=0.34, random_state=10)\n",
    "clf = clf.fit(X_train, Y_train)"
   ]
  },
  {
   "cell_type": "markdown",
   "id": "f7e31008",
   "metadata": {},
   "source": [
    "Calculating the acuuracy of the Train data:"
   ]
  },
  {
   "cell_type": "code",
   "execution_count": 152,
   "id": "ad584698",
   "metadata": {},
   "outputs": [
    {
     "name": "stdout",
     "output_type": "stream",
     "text": [
      "0.7648221343873518\n"
     ]
    }
   ],
   "source": [
    "Yp = clf.predict(X_train)\n",
    "acc = accuracy_score(Y_train, Yp)\n",
    "print(acc)"
   ]
  },
  {
   "cell_type": "markdown",
   "id": "befd61db",
   "metadata": {},
   "source": [
    "Calculating the acuuracy of the Test data:"
   ]
  },
  {
   "cell_type": "code",
   "execution_count": 153,
   "id": "73485821",
   "metadata": {},
   "outputs": [
    {
     "name": "stdout",
     "output_type": "stream",
     "text": [
      "0.7213740458015268\n"
     ]
    }
   ],
   "source": [
    "Yp = clf.predict(X_test)\n",
    "acc = accuracy_score(Y_test, Yp)\n",
    "print(acc)"
   ]
  },
  {
   "cell_type": "markdown",
   "id": "15a1782b",
   "metadata": {},
   "source": [
    "With one-level decition tree we got the above accurecies for train and test data. As you can see train data has better accurecy than test data and that is not a surprise because the tree was made by train data so its more accurate for that data."
   ]
  },
  {
   "cell_type": "markdown",
   "id": "6fe2bc26",
   "metadata": {},
   "source": [
    "Deviding the data into test and train and training multi-level decision tree:"
   ]
  },
  {
   "cell_type": "code",
   "execution_count": 154,
   "id": "e4ad3416",
   "metadata": {},
   "outputs": [],
   "source": [
    "clf = tree.DecisionTreeClassifier(criterion = 'entropy',\n",
    "           max_depth = None)\n",
    "X_train, X_test, Y_train, Y_test = train_test_split(X, Y,\n",
    "  test_size=0.34, random_state=10)\n",
    "clf = clf.fit(X_train, Y_train)\n"
   ]
  },
  {
   "cell_type": "markdown",
   "id": "339566bf",
   "metadata": {},
   "source": [
    "Calculating the acuuracy of the Train data:"
   ]
  },
  {
   "cell_type": "code",
   "execution_count": 155,
   "id": "7a01fdb2",
   "metadata": {},
   "outputs": [
    {
     "name": "stdout",
     "output_type": "stream",
     "text": [
      "1.0\n"
     ]
    }
   ],
   "source": [
    "Yp = clf.predict(X_train)\n",
    "acc = accuracy_score(Y_train, Yp)\n",
    "print(acc)"
   ]
  },
  {
   "cell_type": "markdown",
   "id": "906eaa95",
   "metadata": {},
   "source": [
    "Calculating the acuuracy of the Test data:"
   ]
  },
  {
   "cell_type": "code",
   "execution_count": 156,
   "id": "f17afb6b",
   "metadata": {},
   "outputs": [
    {
     "name": "stdout",
     "output_type": "stream",
     "text": [
      "0.7251908396946565\n"
     ]
    }
   ],
   "source": [
    "Yp = clf.predict(X_test)\n",
    "acc = accuracy_score(Y_test, Yp)\n",
    "print(acc)"
   ]
  },
  {
   "cell_type": "markdown",
   "id": "902e3f19",
   "metadata": {},
   "source": [
    "With multi-level decition tree we got the above accurecies for train and test data. the accuracy for training data is 1 because the tree doesnt have any limits for max depth so it make new branch for every data if needed so it make the right decition for all the data in train data, this is not true for test data because it can be some cases in the test data that the decition tree doesnt know about. "
   ]
  },
  {
   "cell_type": "markdown",
   "id": "ab79bd16",
   "metadata": {},
   "source": [
    "Putting min_samples_leaf to the size of the datasets and deviding the data into test and train and training the decision tree:"
   ]
  },
  {
   "cell_type": "code",
   "execution_count": 157,
   "id": "71591a34",
   "metadata": {},
   "outputs": [],
   "source": [
    "clf = tree.DecisionTreeClassifier(criterion = 'entropy',\n",
    "           max_depth = None, min_samples_leaf = 768)\n",
    "X_train, X_test, Y_train, Y_test = train_test_split(X, Y,\n",
    "  test_size=0.34, random_state=10)\n",
    "clf = clf.fit(X_train, Y_train)"
   ]
  },
  {
   "cell_type": "markdown",
   "id": "58a7113e",
   "metadata": {},
   "source": [
    "Calculating the acuuracy of the Train data:"
   ]
  },
  {
   "cell_type": "code",
   "execution_count": 158,
   "id": "7e94326a",
   "metadata": {},
   "outputs": [
    {
     "name": "stdout",
     "output_type": "stream",
     "text": [
      "0.6561264822134387\n"
     ]
    }
   ],
   "source": [
    "Yp = clf.predict(X_train)\n",
    "acc = accuracy_score(Y_train, Yp)\n",
    "print(acc)"
   ]
  },
  {
   "cell_type": "markdown",
   "id": "f165864e",
   "metadata": {},
   "source": [
    "Calculating the acuuracy of the Test data:"
   ]
  },
  {
   "cell_type": "code",
   "execution_count": 159,
   "id": "64beaa3a",
   "metadata": {},
   "outputs": [
    {
     "name": "stdout",
     "output_type": "stream",
     "text": [
      "0.6412213740458015\n"
     ]
    }
   ],
   "source": [
    "Yp = clf.predict(X_test)\n",
    "acc = accuracy_score(Y_test, Yp)\n",
    "print(acc)"
   ]
  },
  {
   "cell_type": "markdown",
   "id": "9829696e",
   "metadata": {},
   "source": [
    "With multi-level decition tree with min_samples_leaf equal to the size of the datasets we got the above accurecies for train and test data. The accurecies here are less than what we have for multi-level and one-level decitiontrees, the reason is that we are stopping when the leaf nodes get less than 768 training instances and that gonna leave us with only the root node becaue that is the size of our dataset. so here our knowledge about test and training data is not that different and we can even have higher accurecy for our test data than train data as you can see it happend here as well.  "
   ]
  },
  {
   "cell_type": "markdown",
   "id": "ad5c4db0",
   "metadata": {},
   "source": [
    "Plot the accuracy rates based on the training set and hold-out validation for min_samples_leaf from 1 to the size of the datasets with step of 5: \n",
    "Here im generating 50 trees with different test and train datas and making the graph with avarage data "
   ]
  },
  {
   "cell_type": "code",
   "execution_count": 195,
   "id": "5bb7e5ed",
   "metadata": {},
   "outputs": [],
   "source": [
    "def accuracy(X_train, X_test, Y_train, Y_test):\n",
    "    test =[]\n",
    "    train = []\n",
    "    for i in range(1,768,5):\n",
    "        clf = tree.DecisionTreeClassifier(criterion = 'entropy',\n",
    "               max_depth = None, min_samples_leaf = i)\n",
    "        clf = clf.fit(X_train, Y_train)\n",
    "        Yp_test = clf.predict(X_test)\n",
    "        Yp_train = clf.predict(X_train)\n",
    "        test.append(accuracy_score(Y_test, Yp_test))\n",
    "        train.append(accuracy_score(Y_train, Yp_train))\n",
    "    return test , train\n",
    "\n",
    "acTest = [0] * round(768/5)\n",
    "acTrain = [0] * round(768/5)\n",
    "for i in range(50):\n",
    "    X_train, X_test, Y_train, Y_test = train_test_split(X, Y,\n",
    "          test_size=0.34)\n",
    "    acTest = np.add(acTest, accuracy(X_train, X_test, Y_train, Y_test)[0])\n",
    "    acTrain =np.add(acTrain, accuracy(X_train, X_test, Y_train, Y_test)[1])\n",
    "acTest = [x / 50 for x in acTest]\n",
    "acTrain = [x / 50 for x in acTrain]"
   ]
  },
  {
   "cell_type": "code",
   "execution_count": 197,
   "id": "bcf0b740",
   "metadata": {},
   "outputs": [
    {
     "data": {
      "image/png": "[encoded data removed]",
      "text/plain": [
       "<Figure size 432x288 with 1 Axes>"
      ]
     },
     "metadata": {
      "needs_background": "light"
     },
     "output_type": "display_data"
    }
   ],
   "source": [
    "plt.plot(acTest,label = 'test')\n",
    "plt.plot(acTrain,label = 'train')\n",
    "plt.ylabel('accuracy')\n",
    "plt.xlabel('min_samples_leaf')\n",
    "plt.legend(loc ='upper center')\n",
    "plt.show()"
   ]
  },
  {
   "cell_type": "markdown",
   "id": "eed30e77",
   "metadata": {},
   "source": [
    "this is the resulting graph. It is really make sence because as we start our min-sample-leaf is low and we have a multi-level tree so its going to prodict the train data much better than test data but as min-sample-leaf grow they get closer and closer together and after some time we see that the accuracy doesnt change for neither of them. and we can see the overfitting of training data. "
   ]
  },
  {
   "cell_type": "markdown",
   "id": "3d1f8929",
   "metadata": {},
   "source": [
    "2) Glass Data"
   ]
  },
  {
   "cell_type": "code",
   "execution_count": 14,
   "id": "5f3c6f94",
   "metadata": {},
   "outputs": [],
   "source": [
    "data = pd.read_csv('/Users/macbook/Downloads/glass.csv')\n",
    "Y = data['class']\n",
    "X = data.drop(['class'],axis=1)"
   ]
  },
  {
   "cell_type": "markdown",
   "id": "688ab7a0",
   "metadata": {},
   "source": [
    "Deviding the data into test and train and training one-level decision tree:"
   ]
  },
  {
   "cell_type": "code",
   "execution_count": 15,
   "id": "9e78fb55",
   "metadata": {},
   "outputs": [],
   "source": [
    "clf = tree.DecisionTreeClassifier(criterion = 'entropy',\n",
    "           max_depth = 1)\n",
    "X_train, X_test, Y_train, Y_test = train_test_split(X, Y,\n",
    "  test_size=0.34, random_state=10)\n",
    "clf = clf.fit(X_train, Y_train)"
   ]
  },
  {
   "cell_type": "markdown",
   "id": "6582f74c",
   "metadata": {},
   "source": [
    "Calculating the acuuracy of the Train data:"
   ]
  },
  {
   "cell_type": "code",
   "execution_count": 16,
   "id": "931d8d9e",
   "metadata": {},
   "outputs": [
    {
     "name": "stdout",
     "output_type": "stream",
     "text": [
      "0.46099290780141844\n"
     ]
    }
   ],
   "source": [
    "Yp = clf.predict(X_train)\n",
    "acc = accuracy_score(Y_train, Yp)\n",
    "print(acc)"
   ]
  },
  {
   "cell_type": "markdown",
   "id": "9d90a30b",
   "metadata": {},
   "source": [
    "Calculating the acuuracy of the Test data:"
   ]
  },
  {
   "cell_type": "code",
   "execution_count": 17,
   "id": "aeb5c613",
   "metadata": {},
   "outputs": [
    {
     "name": "stdout",
     "output_type": "stream",
     "text": [
      "0.4246575342465753\n"
     ]
    }
   ],
   "source": [
    "Yp = clf.predict(X_test)\n",
    "acc = accuracy_score(Y_test, Yp)\n",
    "print(acc)"
   ]
  },
  {
   "cell_type": "markdown",
   "id": "09aaf872",
   "metadata": {},
   "source": [
    "With one-level decition tree we got the above accurecies for train and test data. As you can see train data has better accurecy than test data and that is not a surprise because the tree was made by train data so its more accurate for that data."
   ]
  },
  {
   "cell_type": "markdown",
   "id": "13e4466e",
   "metadata": {},
   "source": [
    "Deviding the data into test and train and training multi-level decision tree:"
   ]
  },
  {
   "cell_type": "code",
   "execution_count": 18,
   "id": "7ebb1696",
   "metadata": {},
   "outputs": [],
   "source": [
    "clf = tree.DecisionTreeClassifier(criterion = 'entropy',\n",
    "           max_depth = None)\n",
    "X_train, X_test, Y_train, Y_test = train_test_split(X, Y,\n",
    "  test_size=0.70, random_state=10)\n",
    "clf = clf.fit(X_train, Y_train)"
   ]
  },
  {
   "cell_type": "markdown",
   "id": "bf80c45b",
   "metadata": {},
   "source": [
    "Calculating the acuuracy of the Train data:"
   ]
  },
  {
   "cell_type": "code",
   "execution_count": 19,
   "id": "b4d7b2bc",
   "metadata": {},
   "outputs": [
    {
     "name": "stdout",
     "output_type": "stream",
     "text": [
      "1.0\n"
     ]
    }
   ],
   "source": [
    "Yp = clf.predict(X_train)\n",
    "acc = accuracy_score(Y_train, Yp)\n",
    "print(acc)"
   ]
  },
  {
   "cell_type": "markdown",
   "id": "c525ac5b",
   "metadata": {},
   "source": [
    "Calculating the acuuracy of the Test data:"
   ]
  },
  {
   "cell_type": "code",
   "execution_count": 20,
   "id": "f3c2e34d",
   "metadata": {},
   "outputs": [
    {
     "name": "stdout",
     "output_type": "stream",
     "text": [
      "0.54\n"
     ]
    }
   ],
   "source": [
    "Yp = clf.predict(X_test)\n",
    "acc = accuracy_score(Y_test, Yp)\n",
    "print(acc)"
   ]
  },
  {
   "cell_type": "markdown",
   "id": "44f9873d",
   "metadata": {},
   "source": [
    "With multi-level decition tree we got the above accurecies for train and test data. the accuracy for training data is 1 because the tree doesnt have any limits for max depth so it make new branch for every data if needed so it make the right decition for all the data in train data, this is not true for test data because it can be some cases in the test data that the decition tree doesnt know about. "
   ]
  },
  {
   "cell_type": "markdown",
   "id": "00d95868",
   "metadata": {},
   "source": [
    "Putting min_samples_leaf to the size of the datasets and deviding the data into test and train and training the decision tree:"
   ]
  },
  {
   "cell_type": "code",
   "execution_count": 21,
   "id": "0a14a26a",
   "metadata": {},
   "outputs": [],
   "source": [
    "clf = tree.DecisionTreeClassifier(criterion = 'entropy',\n",
    "           max_depth = None,min_samples_leaf = 214)\n",
    "X_train, X_test, Y_train, Y_test = train_test_split(X, Y,\n",
    "  test_size=0.34, random_state=10)\n",
    "clf = clf.fit(X_train, Y_train)"
   ]
  },
  {
   "cell_type": "markdown",
   "id": "66c77981",
   "metadata": {},
   "source": [
    "Calculating the acuuracy of the Train data:"
   ]
  },
  {
   "cell_type": "code",
   "execution_count": 22,
   "id": "1391f444",
   "metadata": {},
   "outputs": [
    {
     "name": "stdout",
     "output_type": "stream",
     "text": [
      "0.3546099290780142\n"
     ]
    }
   ],
   "source": [
    "Yp = clf.predict(X_train)\n",
    "acc = accuracy_score(Y_train, Yp)\n",
    "print(acc)"
   ]
  },
  {
   "cell_type": "markdown",
   "id": "8365f1f2",
   "metadata": {},
   "source": [
    "Calculating the acuuracy of the Test data:"
   ]
  },
  {
   "cell_type": "code",
   "execution_count": 23,
   "id": "6b0b65e3",
   "metadata": {},
   "outputs": [
    {
     "name": "stdout",
     "output_type": "stream",
     "text": [
      "0.3561643835616438\n"
     ]
    }
   ],
   "source": [
    "Yp = clf.predict(X_test)\n",
    "acc = accuracy_score(Y_test, Yp)\n",
    "print(acc)"
   ]
  },
  {
   "cell_type": "markdown",
   "id": "75de1e1b",
   "metadata": {},
   "source": [
    "With multi-level decition tree with min_samples_leaf equal to the size of the datasets we got the above accurecies for train and test data. The accurecies here are less than what we have for multi-level and one-level decitiontrees, the reason is that we are stopping when the leaf nodes get less than 214 training instances and that gonna leave us with only the root node becaue that is the size of our dataset. so here our knowledge about test and training data is not that different and we can even have higher accurecy for our test data than train data as you can see it happend here as well. "
   ]
  },
  {
   "cell_type": "markdown",
   "id": "89fb1c14",
   "metadata": {},
   "source": [
    "Plot the accuracy rates based on the training set and hold-out validation for min_samples_leaf from 1 to the size of the datasets with step of 5:\n",
    "Here im generating 50 trees with different test and train datas and making the graph with avarage data "
   ]
  },
  {
   "cell_type": "code",
   "execution_count": 202,
   "id": "ae00e08c",
   "metadata": {},
   "outputs": [],
   "source": [
    "def accuracy(X_train, X_test, Y_train, Y_test):\n",
    "    test =[]\n",
    "    train = []\n",
    "    for i in range(1,214,5):\n",
    "        clf = tree.DecisionTreeClassifier(criterion = 'entropy',\n",
    "               max_depth = None, min_samples_leaf = i)\n",
    "        clf = clf.fit(X_train, Y_train)\n",
    "        Yp_test = clf.predict(X_test)\n",
    "        Yp_train = clf.predict(X_train)\n",
    "        test.append(accuracy_score(Y_test, Yp_test))\n",
    "        train.append(accuracy_score(Y_train, Yp_train))\n",
    "    return test , train\n",
    "\n",
    "acTest = [0] * round(214/5)\n",
    "acTrain = [0] * round(214/5)\n",
    "for i in range(50):\n",
    "    X_train, X_test, Y_train, Y_test = train_test_split(X, Y,\n",
    "          test_size=0.34)\n",
    "    acTest = np.add(acTest, accuracy(X_train, X_test, Y_train, Y_test)[0])\n",
    "    acTrain =np.add(acTrain, accuracy(X_train, X_test, Y_train, Y_test)[1])\n",
    "acTest = [x / 50 for x in acTest]\n",
    "acTrain = [x / 50 for x in acTrain]"
   ]
  },
  {
   "cell_type": "code",
   "execution_count": 203,
   "id": "fb727b98",
   "metadata": {},
   "outputs": [
    {
     "data": {
      "image/png": "[encoded data removed]",
      "text/plain": [
       "<Figure size 432x288 with 1 Axes>"
      ]
     },
     "metadata": {
      "needs_background": "light"
     },
     "output_type": "display_data"
    }
   ],
   "source": [
    "plt.plot(acTest,label = 'test')\n",
    "plt.plot(acTrain,label = 'train')\n",
    "plt.ylabel('accuracy')\n",
    "plt.xlabel('min_samples_leaf')\n",
    "plt.legend(loc ='upper center')\n",
    "plt.show()"
   ]
  },
  {
   "cell_type": "markdown",
   "id": "3134f8ad",
   "metadata": {},
   "source": [
    "this is the resulting graph. It is really make sence because as we start our min-sample-leaf is low and we have a multi-level tree so its going to prodict the train data much better than test data but as min-sample-leaf grow they get closer and closer together. and we can see the overfitting of training data. "
   ]
  }
 ],
 "metadata": {
  "kernelspec": {
   "display_name": "Python 3",
   "language": "python",
   "name": "python3"
  },
  "language_info": {
   "codemirror_mode": {
    "name": "ipython",
    "version": 3
   },
   "file_extension": ".py",
   "mimetype": "text/x-python",
   "name": "python",
   "nbconvert_exporter": "python",
   "pygments_lexer": "ipython3",
   "version": "3.8.8"
  }
 },
 "nbformat": 4,
 "nbformat_minor": 5
}
